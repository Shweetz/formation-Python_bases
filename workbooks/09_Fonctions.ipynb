{
 "cells": [
  {
   "cell_type": "markdown",
   "metadata": {},
   "source": [
    "# Les Fonctions\n",
    "Les fonctions permettent de grouper des instructions et de les appeler par un nom logique. Ceci permet entre-autres de limiter la duplication de code. Les fonctions peuvent attendre des paramètres et retourner des données.\n",
    "\n",
    "Les fonctions sont définies par l'instruction **def** et sont appelées par leur nom suivi de parenthèses. Les parenthèses déclarent les paramètres attendus."
   ]
  },
  {
   "cell_type": "code",
   "execution_count": 39,
   "metadata": {},
   "outputs": [
    {
     "name": "stdout",
     "output_type": "stream",
     "text": [
      "Something\n"
     ]
    }
   ],
   "source": [
    "def print_something():\n",
    "    print(\"Something\")\n",
    "    \n",
    "print_something()"
   ]
  },
  {
   "cell_type": "markdown",
   "metadata": {},
   "source": [
    "`print_something` n'attends pas de paramètre. Vous pouvez l'appeler dans la cellule suivante (après avoir exécuté la cellule précédente afin que la fonction soit connue dans le notebook actuel)."
   ]
  },
  {
   "cell_type": "code",
   "execution_count": null,
   "metadata": {},
   "outputs": [],
   "source": []
  },
  {
   "cell_type": "markdown",
   "metadata": {},
   "source": [
    "Les fonctions peuvent avoir des paramètres. Vous pouvez tester la fonction suivante en lui passant un paramètre."
   ]
  },
  {
   "cell_type": "code",
   "execution_count": 40,
   "metadata": {},
   "outputs": [],
   "source": [
    "def print_param(param_to_print):\n",
    "    print(\"exécuté avec\", param_to_print)"
   ]
  },
  {
   "cell_type": "code",
   "execution_count": null,
   "metadata": {},
   "outputs": [],
   "source": []
  },
  {
   "cell_type": "markdown",
   "metadata": {},
   "source": [
    "Vous pouvez déclarer des paramètres optionnels. Pour cela, une valeur par défaut doit être attribuée dans la signature de la fonction."
   ]
  },
  {
   "cell_type": "code",
   "execution_count": 41,
   "metadata": {},
   "outputs": [
    {
     "name": "stdout",
     "output_type": "stream",
     "text": [
      "Hello World\n",
      "Hello Me\n",
      "Hello You\n"
     ]
    }
   ],
   "source": [
    "def print_hello(who=\"World\"):\n",
    "    print(\"Hello {}\".format(who))\n",
    "    \n",
    "print_hello()\n",
    "print_hello(\"Me\")\n",
    "print_hello(who=\"You\")"
   ]
  },
  {
   "cell_type": "markdown",
   "metadata": {},
   "source": [
    "## Exercices\n",
    "\n",
    "### Compteur d'éléments\n",
    "Vous vous souvenez que les instructions des derniers exercices sur les boucles étaient très similaires ? Écrivez une fonction qui permet d'afficher chaque élément d'une séquence.\n",
    "\n",
    "* Affichez chaque caractère d'une chaine à l'aide de cette fonction.\n",
    "* Affichez chaque élément d'une liste à l'aide de cette fonction.\n",
    "* Afficher chaque mot de la chaîne de caractère à l'aide de cette fonction."
   ]
  },
  {
   "cell_type": "code",
   "execution_count": 42,
   "metadata": {},
   "outputs": [],
   "source": [
    "CHAR_STRING = \"Chaine de plusieurs mots\"\n",
    "ELEMENTS_LIST = [\"Liste\", \"de\", \"plusieurs\", \"elements\"]\n",
    "# Écrivez votre fonction à la suite\n"
   ]
  },
  {
   "cell_type": "code",
   "execution_count": 43,
   "metadata": {},
   "outputs": [],
   "source": [
    "#Affichez chaque caractère d'une chaine à l'aide de cette fonction.\n"
   ]
  },
  {
   "cell_type": "code",
   "execution_count": 44,
   "metadata": {},
   "outputs": [],
   "source": [
    "#Affichez chaque élément d'une liste à l'aide de cette fonction.\n"
   ]
  },
  {
   "cell_type": "code",
   "execution_count": 45,
   "metadata": {},
   "outputs": [],
   "source": [
    "#Afficher chaque mot de la chaîne de caractère à l'aide de cette fonction.\n"
   ]
  },
  {
   "cell_type": "markdown",
   "metadata": {},
   "source": [
    "Avez-vous remarqué que vous avez utilisé la même fonction pour des paramètres de types différents ? En Python, le type des données n'est pas important, c'est le principe du Duck Typing qui se résume par :\n",
    "\n",
    "> Si je vois un animal qui vole comme un canard, cancane comme un canard, et nage comme un canard, alors j'appelle cet oiseau un canard"
   ]
  },
  {
   "cell_type": "markdown",
   "metadata": {},
   "source": [
    "### Test de palindromes - exercice d'illustration\n",
    "Une fonction permet également d'éviter les imbrications excessives de structures et ainsi rendre le code plus compréhensible.\n",
    "\n",
    "Pour l'exercice suivant, nous souhaitons tester si chaque chaine de la liste `SENTENCES` est un palindrome. Le palindrome est une figure de style désignant un texte ou un mot dont l'ordre des lettres (hors espaces) reste le même qu'on le lise de gauche à droite ou de droite à gauche.\n",
    "\n",
    "Nous souhaitons donc générer une liste `palindrom_result` où chaque élément `palindrom_result[i]` est un booléen de valeur `True` si l'élément à `SENTENCES[i]` est un palindrome, `False` sinon.\n",
    "\n",
    "Vous n'avez à priori pas besoin d'une fonction pour générer cette liste. Écrivez le code générant la liste `palindrom_result`.\n",
    "\n",
    "**Rappel** : pour itérer sur une collection tout en récupérant l'indice, vous avez la fonction `enumerate(collection)` :\n",
    "```python\n",
    ">>> for element in enumerate('radar'):\n",
    "...     print(element)\n",
    "...\n",
    "(0, 'r')\n",
    "(1, 'a')\n",
    "(2, 'd')\n",
    "(3, 'a')\n",
    "(4, 'r')\n",
    "```\n",
    "L'usage d'indices négatifs permet d'accéder aux éléments d'une collection à partir de la fin :\n",
    "```python\n",
    ">>> print('Esope'[-1])\n",
    "e\n",
    "```"
   ]
  },
  {
   "cell_type": "code",
   "execution_count": 46,
   "metadata": {},
   "outputs": [],
   "source": [
    "SENTENCES = [\"Esope reste ici et se repose\",\n",
    "             \"La mariée ira mal\",\n",
    "             \"radar\"]"
   ]
  },
  {
   "cell_type": "code",
   "execution_count": 47,
   "metadata": {},
   "outputs": [
    {
     "data": {
      "text/plain": [
       "[True, False, True]"
      ]
     },
     "execution_count": 47,
     "metadata": {},
     "output_type": "execute_result"
    }
   ],
   "source": [
    "palindrom_result = []\n",
    "\n",
    "for sentence in SENTENCES:\n",
    "    sentence = sentence.lower().replace(\" \",\"\")\n",
    "    \n",
    "    for index, char in enumerate(sentence[:len(sentence) // 2]):\n",
    "        if char != sentence[-1 - index]:\n",
    "            palindrom_result.append(False)\n",
    "            break\n",
    "    else:\n",
    "        palindrom_result.append(True)\n",
    "\n",
    "palindrom_result"
   ]
  },
  {
   "cell_type": "code",
   "execution_count": 48,
   "metadata": {},
   "outputs": [
    {
     "data": {
      "text/plain": [
       "[True, False, True]"
      ]
     },
     "execution_count": 48,
     "metadata": {},
     "output_type": "execute_result"
    }
   ],
   "source": [
    "palindrom_result = []\n",
    "\n",
    "for sentence in SENTENCES:\n",
    "    sentence = sentence.lower().replace(\" \",\"\")\n",
    "    \n",
    "    lsentence = list(sentence)\n",
    "    lsentence_rev = lsentence.copy()\n",
    "    lsentence_rev.reverse()\n",
    "    if lsentence_rev == lsentence:\n",
    "        palindrom_result.append(True)\n",
    "    else:\n",
    "        palindrom_result.append(False)\n",
    "\n",
    "palindrom_result"
   ]
  },
  {
   "cell_type": "markdown",
   "metadata": {},
   "source": [
    "Vous pouvez extraire une fonction de ce code. La fonction s'appellera `is_palindrome(sequence)` et retournera un booléen. Réécrivez le en conséquence."
   ]
  },
  {
   "cell_type": "code",
   "execution_count": 49,
   "metadata": {},
   "outputs": [],
   "source": [
    "def is_palindrome(sequence):\n",
    "    sentence = sequence.lower().replace(\" \",\"\")\n",
    "    \n",
    "    for index, char in enumerate(sentence[:len(sentence) // 2]):\n",
    "        if char != sentence[-1 - index]:\n",
    "            return False\n",
    "    \n",
    "    return True"
   ]
  },
  {
   "cell_type": "code",
   "execution_count": 50,
   "metadata": {},
   "outputs": [
    {
     "name": "stdout",
     "output_type": "stream",
     "text": [
      "[True, False, True]\n"
     ]
    }
   ],
   "source": [
    "palindrom_result = []\n",
    "\n",
    "for sentence in SENTENCES:\n",
    "    palindrom_result.append(is_palindrome(sentence))\n",
    "    \n",
    "print(palindrom_result)"
   ]
  },
  {
   "cell_type": "code",
   "execution_count": 51,
   "metadata": {},
   "outputs": [],
   "source": [
    "def is_s_palindrome(sequence):\n",
    "    sentence = sequence.lower().replace(\" \",\"\")\n",
    "    \n",
    "    return sentence == sentence[::-1]"
   ]
  },
  {
   "cell_type": "code",
   "execution_count": 52,
   "metadata": {},
   "outputs": [
    {
     "name": "stdout",
     "output_type": "stream",
     "text": [
      "[True, False, True]\n"
     ]
    }
   ],
   "source": [
    "palindrom_result = []\n",
    "\n",
    "for sentence in SENTENCES:\n",
    "    palindrom_result.append(is_palindrome(sentence))\n",
    "    \n",
    "print(palindrom_result)"
   ]
  },
  {
   "cell_type": "code",
   "execution_count": 55,
   "metadata": {},
   "outputs": [
    {
     "data": {
      "text/plain": [
       "[True, False, True]"
      ]
     },
     "execution_count": 55,
     "metadata": {},
     "output_type": "execute_result"
    }
   ],
   "source": [
    "[is_palindrome(sentence) for sentence in SENTENCES]"
   ]
  },
  {
   "cell_type": "code",
   "execution_count": null,
   "metadata": {},
   "outputs": [],
   "source": []
  },
  {
   "cell_type": "code",
   "execution_count": 53,
   "metadata": {},
   "outputs": [
    {
     "name": "stdout",
     "output_type": "stream",
     "text": [
      "1.56 µs ± 28.2 ns per loop (mean ± std. dev. of 7 runs, 1000000 loops each)\n"
     ]
    }
   ],
   "source": [
    "%timeit is_palindrome(\"Esope reste ici et se repose\")"
   ]
  },
  {
   "cell_type": "code",
   "execution_count": 54,
   "metadata": {},
   "outputs": [
    {
     "name": "stdout",
     "output_type": "stream",
     "text": [
      "432 ns ± 9.19 ns per loop (mean ± std. dev. of 7 runs, 1000000 loops each)\n"
     ]
    }
   ],
   "source": [
    "%timeit is_s_palindrome(\"Esope reste ici et se repose\")"
   ]
  },
  {
   "cell_type": "code",
   "execution_count": null,
   "metadata": {},
   "outputs": [],
   "source": []
  }
 ],
 "metadata": {
  "kernelspec": {
   "display_name": "Python 3",
   "language": "python",
   "name": "python3"
  },
  "language_info": {
   "codemirror_mode": {
    "name": "ipython",
    "version": 3
   },
   "file_extension": ".py",
   "mimetype": "text/x-python",
   "name": "python",
   "nbconvert_exporter": "python",
   "pygments_lexer": "ipython3",
   "version": "3.8.2"
  }
 },
 "nbformat": 4,
 "nbformat_minor": 1
}
