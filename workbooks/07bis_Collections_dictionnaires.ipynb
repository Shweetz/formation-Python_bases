{
 "cells": [
  {
   "cell_type": "markdown",
   "metadata": {},
   "source": [
    "## Les collections\n",
    "Les collections sont des types de données qui contiennent plusieurs données. Nous avons vu :\n",
    " * les chaines de caractères (`str`)\n",
    " * les listes (`list`)\n",
    " * les tuples (`tuple`)\n",
    " * les dictionnaires (`dict`)\n",
    "\n",
    "Les Dictionnairs (`dict`) sont des collections non ordonnées de couples clef-valeur.\n",
    "\n",
    "### Exercices - dictionnaires\n",
    "Les questions suivantes vont vous faire manipuler les instructions principales.\n",
    "\n",
    "La cellule suivante crée un dictionnaire vide."
   ]
  },
  {
   "cell_type": "code",
   "execution_count": 128,
   "metadata": {},
   "outputs": [],
   "source": [
    "training = {}"
   ]
  },
  {
   "cell_type": "markdown",
   "metadata": {},
   "source": [
    "Ajoutez une clef `subject` avec la valeur `Python`"
   ]
  },
  {
   "cell_type": "code",
   "execution_count": 129,
   "metadata": {},
   "outputs": [],
   "source": [
    "training[\"subject\"] = \"Python\""
   ]
  },
  {
   "cell_type": "markdown",
   "metadata": {},
   "source": [
    "Ajoutez une clef `duration` avec la valeur correspondant au nombre de jours de formation (ce nombre de jours est un entier"
   ]
  },
  {
   "cell_type": "code",
   "execution_count": 130,
   "metadata": {},
   "outputs": [],
   "source": [
    "training[\"duration\"] = 5"
   ]
  },
  {
   "cell_type": "markdown",
   "metadata": {},
   "source": [
    "Affichez \"Clef exist\" si la clef `trainees` existe sinon \"Clef n'existe pas\""
   ]
  },
  {
   "cell_type": "code",
   "execution_count": 131,
   "metadata": {},
   "outputs": [
    {
     "name": "stdout",
     "output_type": "stream",
     "text": [
      "Clef n'existe pas\n"
     ]
    }
   ],
   "source": [
    "print(\"Clef exist\" if \"trainees\" in training else \"Clef n'existe pas\")"
   ]
  },
  {
   "cell_type": "markdown",
   "metadata": {},
   "source": [
    "Créez la clef `trainees` et affectez lui une valeur correspondant au nombre de stagiaires."
   ]
  },
  {
   "cell_type": "code",
   "execution_count": 132,
   "metadata": {},
   "outputs": [],
   "source": [
    "training[\"trainees\"] = 10"
   ]
  },
  {
   "cell_type": "markdown",
   "metadata": {},
   "source": [
    "Affichez la liste des clefs"
   ]
  },
  {
   "cell_type": "code",
   "execution_count": 133,
   "metadata": {},
   "outputs": [
    {
     "name": "stdout",
     "output_type": "stream",
     "text": [
      "['subject', 'duration', 'trainees']\n"
     ]
    }
   ],
   "source": [
    "print(list(training))"
   ]
  },
  {
   "cell_type": "markdown",
   "metadata": {},
   "source": [
    "Modifiez la clef `trainees` pour que la valeur associée soit incrémentée de 2. **Attention**, n'affectez pas une nouvelle valeur mais la valeur actuelle incrémentée de 2."
   ]
  },
  {
   "cell_type": "code",
   "execution_count": 134,
   "metadata": {},
   "outputs": [
    {
     "name": "stdout",
     "output_type": "stream",
     "text": [
      "12\n"
     ]
    }
   ],
   "source": [
    "training[\"trainees\"] += 2\n",
    "print(training[\"trainees\"])"
   ]
  },
  {
   "cell_type": "markdown",
   "metadata": {},
   "source": [
    "## Exercices : dictionnaires et fonctions\n",
    "Vous avez remarqué que les différentes questions précédentes permettent d'utiliser un dictionnaire comme structure de données et qu'ainsi, il est possible de modifier certaines informations de ces structures de données.\n",
    "\n",
    "Nous pouvons accéder directement à ces informations par leur clef, mais cela nécessite de connaitre les clefs. Et une faute d'orthographe peut entrainer des erreurs de manière parfaitement silencieuse. Par exemple :\n",
    "```python\n",
    "\n",
    "training = {}\n",
    "training[\"subject\"] = \"Pthon\"\n",
    "# Oups, erreur, il faut corriger\n",
    "training[\"suject\"] = \"Python\"\n",
    "```\n",
    "Dans cet exemple, la dernière ligne ne corrige pas la clef mais en ajoute une nouvelle. Mais la valeur incorrecte n'est pas corrigée et restera fausse.\n",
    "\n",
    "Pour éviter ce type d'erreur, nous allons utiliser des fonctions.\n",
    "\n",
    "Commencez par créer le corps de la fonction suivante qui **retourne** un dictionnaire avec une clef `subject` et une clef `duration`."
   ]
  },
  {
   "cell_type": "code",
   "execution_count": 135,
   "metadata": {},
   "outputs": [
    {
     "name": "stdout",
     "output_type": "stream",
     "text": [
      "{'subject': 'sub', 'duration': 5}\n"
     ]
    }
   ],
   "source": [
    "def create_training(subject: str, duration: int):\n",
    "    return {\"subject\": subject, \"duration\": duration}\n",
    "print(create_training(\"sub\", 5))"
   ]
  },
  {
   "cell_type": "markdown",
   "metadata": {},
   "source": [
    "Créez une fonction `add_trainees` ajoutant un nombre de participant (le paramètre est de type `int`)"
   ]
  },
  {
   "cell_type": "code",
   "execution_count": 136,
   "metadata": {},
   "outputs": [],
   "source": [
    "def add_trainees(training, how_many: int):\n",
    "    training[\"trainees\"] = training.get(\"trainees\", 0) + how_many\n",
    "#get prend 2 arguments, le 2e est la valeur par defaut si la clé n'existe pas"
   ]
  },
  {
   "cell_type": "markdown",
   "metadata": {},
   "source": [
    "Attention, n'oubliez pas un idiome en Python : si vous modifiez la valeur, alors la fonction ne doit rien retourner. Si la fonction retourne un dictionnaire représentant la formation, alors la donnée passée en paramètre ne doit pas être modifiée.\n",
    "\n",
    "* Créez une formation avec le sujet *Python* de *5* jours.\n",
    "* Répétez ensuite plusieurs fois l'ajout de participants.\n",
    "* Vérifiez ainsi que tout fonctionne bien."
   ]
  },
  {
   "cell_type": "code",
   "execution_count": 137,
   "metadata": {
    "scrolled": true
   },
   "outputs": [
    {
     "data": {
      "text/plain": [
       "{'subject': 'Python', 'duration': 5, 'trainees': 10}"
      ]
     },
     "execution_count": 137,
     "metadata": {},
     "output_type": "execute_result"
    }
   ],
   "source": [
    "python = create_training(\"Python\", 5)\n",
    "add_trainees(python, 10)\n",
    "python"
   ]
  },
  {
   "cell_type": "markdown",
   "metadata": {},
   "source": [
    "Pour finir, créez une fonction `should_cancel_training` qui retournera `True` si la formation a strictement moins de 3 participants, `False` sinon."
   ]
  },
  {
   "cell_type": "code",
   "execution_count": 152,
   "metadata": {},
   "outputs": [],
   "source": [
    "def should_cancel_training(training: {}):\n",
    "    return training.get(\"trainees\") < 3"
   ]
  },
  {
   "cell_type": "markdown",
   "metadata": {},
   "source": [
    "Écrivez le code affichant le message adéquat dans la cellule suivante."
   ]
  },
  {
   "cell_type": "code",
   "execution_count": 153,
   "metadata": {},
   "outputs": [],
   "source": [
    "TRAINING_CANCELED = \"La formation {} est annulée\"\n",
    "TRAINING_MAINTAINED = \"La formation {} est maintenue\""
   ]
  },
  {
   "cell_type": "code",
   "execution_count": 155,
   "metadata": {},
   "outputs": [
    {
     "name": "stdout",
     "output_type": "stream",
     "text": [
      "La formation Python1 est annulée\n",
      "La formation Python2 est maintenue\n"
     ]
    }
   ],
   "source": [
    "python1 = create_training(\"Python1\", 5)\n",
    "add_trainees(python1, 2)\n",
    "\n",
    "python2 = create_training(\"Python2\", 5)\n",
    "add_trainees(python2, 3)\n",
    "\n",
    "def display_training_status(training: {}):\n",
    "    if should_cancel_training(training):\n",
    "        print(TRAINING_CANCELED.format(training.get(\"subject\")))\n",
    "    else:\n",
    "        print(TRAINING_MAINTAINED.format(training.get(\"subject\")))        \n",
    "\n",
    "display_training_status(python1)\n",
    "display_training_status(python2)"
   ]
  },
  {
   "cell_type": "code",
   "execution_count": null,
   "metadata": {},
   "outputs": [],
   "source": []
  }
 ],
 "metadata": {
  "kernelspec": {
   "display_name": "Python 3",
   "language": "python",
   "name": "python3"
  },
  "language_info": {
   "codemirror_mode": {
    "name": "ipython",
    "version": 3
   },
   "file_extension": ".py",
   "mimetype": "text/x-python",
   "name": "python",
   "nbconvert_exporter": "python",
   "pygments_lexer": "ipython3",
   "version": "3.8.2"
  }
 },
 "nbformat": 4,
 "nbformat_minor": 2
}
