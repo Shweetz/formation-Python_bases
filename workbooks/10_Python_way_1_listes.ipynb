{
 "cells": [
  {
   "cell_type": "markdown",
   "metadata": {},
   "source": [
    "# Lets do it the Python way\n",
    "Jusqu'ici, nous avons vu la sémantique du langage Python. Avec les connaissance acquises jusqu'ici, vous savez écrire un programme avec la syntaxe Python. Si vous avez vu certaines caractéristiques du langage, il est est temps de voir les plus intéressantes."
   ]
  },
  {
   "cell_type": "markdown",
   "metadata": {},
   "source": [
    "## Manipuler les listes\n",
    "Pour transformer et/ou filtrer les listes, Python propose un mécanisme inspiré du langage Haskell : les *Comprehension lists*. Soit les listes suivantes :\n",
    "```python\n",
    "camelot = [\"Arthur\", \"Merlin\", \"Lancelot\", \"Galahad\", \"Robin\", \"Karadoc\"]\n",
    "wizards = ['Merlin', \"Tim\"]\n",
    "```\n",
    "Nous pouvons obtenir une liste de la taille des éléments de la liste `camelot` de la manière suivante :\n",
    "```python\n",
    "[len(element) for element in camelot]\n",
    "```\n",
    "Nous pouvons obtenir la liste des chevaliers (éléments qui ne sont pas dans la liste `wizards`) de la manière suivante :\n",
    "```python\n",
    "[knight for knight in knights if knight not in wizards]\n",
    "```"
   ]
  },
  {
   "cell_type": "markdown",
   "metadata": {},
   "source": [
    "### Exercices\n",
    "Soit la liste de médias suivante. Chaque élément est une liste de deux éléments, une chaine et un booléen. Le booléen représente si un média a été visionné (`True`) ou non (`False`).\n",
    "\n",
    "Générez et affichez une liste contenant uniquement les titres des médias"
   ]
  },
  {
   "cell_type": "code",
   "execution_count": 8,
   "metadata": {},
   "outputs": [],
   "source": [
    "medias = [[\"The Philosopher's Stone\", True],\n",
    "          [\"The Chamber of Secrets\", True],\n",
    "          [\"The Prisoner of Azkaban\", False],\n",
    "          [\"the Goblet of Fire\", True],\n",
    "          [\"the Order of the Phoenix\", False],\n",
    "          [\"the Half-Blood Prince\", True],\n",
    "          [\"the Deathly Hallows – Part 1\", False],\n",
    "          [\"the Deathly Hallows – Part 2\", False]]"
   ]
  },
  {
   "cell_type": "code",
   "execution_count": 38,
   "metadata": {},
   "outputs": [
    {
     "data": {
      "text/plain": [
       "[\"The Philosopher's Stone\",\n",
       " 'The Chamber of Secrets',\n",
       " 'The Prisoner of Azkaban',\n",
       " 'the Goblet of Fire',\n",
       " 'the Order of the Phoenix',\n",
       " 'the Half-Blood Prince',\n",
       " 'the Deathly Hallows – Part 1',\n",
       " 'the Deathly Hallows – Part 2']"
      ]
     },
     "execution_count": 38,
     "metadata": {},
     "output_type": "execute_result"
    }
   ],
   "source": [
    "l = []\n",
    "for title, seen in medias:\n",
    "    l.append(title)\n",
    "l"
   ]
  },
  {
   "cell_type": "code",
   "execution_count": 45,
   "metadata": {},
   "outputs": [
    {
     "data": {
      "text/plain": [
       "[\"The Philosopher's Stone\",\n",
       " 'The Chamber of Secrets',\n",
       " 'The Prisoner of Azkaban',\n",
       " 'the Goblet of Fire',\n",
       " 'the Order of the Phoenix',\n",
       " 'the Half-Blood Prince',\n",
       " 'the Deathly Hallows – Part 1',\n",
       " 'the Deathly Hallows – Part 2']"
      ]
     },
     "execution_count": 45,
     "metadata": {},
     "output_type": "execute_result"
    }
   ],
   "source": [
    "[film[0] for film in medias]"
   ]
  },
  {
   "cell_type": "markdown",
   "metadata": {},
   "source": [
    "Générez et affichez une liste des titres des médias **non visionnés**."
   ]
  },
  {
   "cell_type": "code",
   "execution_count": 37,
   "metadata": {},
   "outputs": [
    {
     "data": {
      "text/plain": [
       "['The Prisoner of Azkaban',\n",
       " 'the Order of the Phoenix',\n",
       " 'the Deathly Hallows – Part 1',\n",
       " 'the Deathly Hallows – Part 2']"
      ]
     },
     "execution_count": 37,
     "metadata": {},
     "output_type": "execute_result"
    }
   ],
   "source": [
    "[title for title, seen in medias if not seen]"
   ]
  },
  {
   "cell_type": "markdown",
   "metadata": {},
   "source": [
    "### Exercice un peu avancé\n",
    "\n",
    "Il existe une fonction `sum(collection)` qui retourne la somme des éléments de la collection. Le fonctionnement est le suivant :\n",
    "```python\n",
    ">>> sum([3, 6, 10])\n",
    "19\n",
    "```\n",
    "Nous allons nous en servir pour les informations contenues dans la liste suivante :"
   ]
  },
  {
   "cell_type": "code",
   "execution_count": 14,
   "metadata": {},
   "outputs": [],
   "source": [
    "movies = [[\"The Philosopher's Stone\", 152, True],\n",
    "          [\"The Chamber of Secrets\", 161, True],\n",
    "          [\"The Prisoner of Azkaban\", 142, False],\n",
    "          [\"the Goblet of Fire\", 157, True],\n",
    "          [\"the Order of the Phoenix\", 138, False],\n",
    "          [\"the Half-Blood Prince\", 153, True],\n",
    "          [\"the Deathly Hallows – Part 1\", 126, False],\n",
    "          [\"the Deathly Hallows – Part 2\", 130, False]]"
   ]
  },
  {
   "cell_type": "markdown",
   "metadata": {},
   "source": [
    "À l'aide des comprehension lists et du modèle suivant, affichez le temps total pour un marathon Harry Potter."
   ]
  },
  {
   "cell_type": "code",
   "execution_count": 15,
   "metadata": {},
   "outputs": [],
   "source": [
    "TIME_WATCHING = 'Il y a {}h{} à visionner.'"
   ]
  },
  {
   "cell_type": "code",
   "execution_count": 50,
   "metadata": {},
   "outputs": [
    {
     "data": {
      "text/plain": [
       "[\"The Philosopher's Stone\",\n",
       " 'The Chamber of Secrets',\n",
       " 'The Prisoner of Azkaban',\n",
       " 'the Goblet of Fire',\n",
       " 'the Order of the Phoenix',\n",
       " 'the Half-Blood Prince',\n",
       " 'the Deathly Hallows – Part 1',\n",
       " 'the Deathly Hallows – Part 2']"
      ]
     },
     "execution_count": 50,
     "metadata": {},
     "output_type": "execute_result"
    }
   ],
   "source": []
  },
  {
   "cell_type": "code",
   "execution_count": 46,
   "metadata": {},
   "outputs": [
    {
     "name": "stdout",
     "output_type": "stream",
     "text": [
      "1159\n"
     ]
    }
   ],
   "source": [
    "print(sum(duration for _, duration, _ in movies))"
   ]
  },
  {
   "cell_type": "markdown",
   "metadata": {},
   "source": [
    "Toujours à l'aide des comprehension lists et du modèle précédent, affichez le temps total des épisodes restant à voir."
   ]
  },
  {
   "cell_type": "code",
   "execution_count": 47,
   "metadata": {},
   "outputs": [
    {
     "name": "stdout",
     "output_type": "stream",
     "text": [
      "536\n"
     ]
    }
   ],
   "source": [
    "print(sum(duration for _, duration, seen in movies if not seen))"
   ]
  },
  {
   "cell_type": "markdown",
   "metadata": {},
   "source": [
    "Enfin, intégrez ce code dans une fonction. Écrivez donc une fonction `time_remaining` qui prend en paramètre une collection sur le format précédent et qui retourne un entier représentant le temps des épisodes restant à voir.\n",
    "\n",
    "Afficher le temps total des épisodes restant à voir à l'aide de cette fonction, de la liste précédente et du template `TIME_WATCHING`."
   ]
  },
  {
   "cell_type": "code",
   "execution_count": 44,
   "metadata": {},
   "outputs": [
    {
     "name": "stdout",
     "output_type": "stream",
     "text": [
      "Il y a 8h56 à visionner.\n"
     ]
    }
   ],
   "source": [
    "def time_remaining(collection):\n",
    "    return sum(duration for title, duration, seen in collection if not seen)\n",
    "\n",
    "time = time_remaining(movies)\n",
    "print(TIME_WATCHING.format(time // 60, time % 60))"
   ]
  },
  {
   "cell_type": "markdown",
   "metadata": {},
   "source": [
    "### Free notebook"
   ]
  },
  {
   "cell_type": "code",
   "execution_count": 2,
   "metadata": {},
   "outputs": [],
   "source": [
    "camelot = [\"Arthur\", \"Merlin\", \"Robin\"]\n",
    "wizards = [\"Merlin\", \"Tim\"]"
   ]
  },
  {
   "cell_type": "code",
   "execution_count": 3,
   "metadata": {},
   "outputs": [
    {
     "data": {
      "text/plain": [
       "{'ARTHUR', 'MERLIN', 'ROBIN'}"
      ]
     },
     "execution_count": 3,
     "metadata": {},
     "output_type": "execute_result"
    }
   ],
   "source": [
    "{knight.upper() for knight in camelot}"
   ]
  },
  {
   "cell_type": "code",
   "execution_count": 4,
   "metadata": {},
   "outputs": [
    {
     "data": {
      "text/plain": [
       "[6, 6, 5]"
      ]
     },
     "execution_count": 4,
     "metadata": {},
     "output_type": "execute_result"
    }
   ],
   "source": [
    "[len(knight) for knight in camelot]"
   ]
  },
  {
   "cell_type": "code",
   "execution_count": 7,
   "metadata": {},
   "outputs": [
    {
     "data": {
      "text/plain": [
       "[6, 5]"
      ]
     },
     "execution_count": 7,
     "metadata": {},
     "output_type": "execute_result"
    }
   ],
   "source": [
    "[len(knight) \n",
    " for knight in camelot\n",
    " if knight not in wizards]"
   ]
  },
  {
   "cell_type": "code",
   "execution_count": null,
   "metadata": {},
   "outputs": [],
   "source": []
  },
  {
   "cell_type": "code",
   "execution_count": 51,
   "metadata": {},
   "outputs": [
    {
     "data": {
      "text/plain": [
       "[\"The Philosopher's Stone\",\n",
       " 'The Chamber of Secrets',\n",
       " 'The Prisoner of Azkaban',\n",
       " 'the Goblet of Fire',\n",
       " 'the Order of the Phoenix',\n",
       " 'the Half-Blood Prince',\n",
       " 'the Deathly Hallows – Part 1',\n",
       " 'the Deathly Hallows – Part 2']"
      ]
     },
     "execution_count": 51,
     "metadata": {},
     "output_type": "execute_result"
    }
   ],
   "source": [
    "[title for title, *_ in movies]"
   ]
  },
  {
   "cell_type": "code",
   "execution_count": 58,
   "metadata": {},
   "outputs": [
    {
     "ename": "SyntaxError",
     "evalue": "invalid syntax (<ipython-input-58-15b44c8dd3a9>, line 1)",
     "output_type": "error",
     "traceback": [
      "\u001b[1;36m  File \u001b[1;32m\"<ipython-input-58-15b44c8dd3a9>\"\u001b[1;36m, line \u001b[1;32m1\u001b[0m\n\u001b[1;33m    [seen for seen in movies[[2:]]\u001b[0m\n\u001b[1;37m                               ^\u001b[0m\n\u001b[1;31mSyntaxError\u001b[0m\u001b[1;31m:\u001b[0m invalid syntax\n"
     ]
    }
   ],
   "source": [
    "[seen for seen in movies[[2:]]"
   ]
  },
  {
   "cell_type": "code",
   "execution_count": 65,
   "metadata": {},
   "outputs": [
    {
     "data": {
      "text/plain": [
       "[[\"The Philosopher's Stone\", 152, True],\n",
       " ['The Chamber of Secrets', 161, True],\n",
       " ['The Prisoner of Azkaban', 142, False],\n",
       " ['the Goblet of Fire', 157, True],\n",
       " ['the Order of the Phoenix', 138, False],\n",
       " ['the Half-Blood Prince', 153, True],\n",
       " ['the Deathly Hallows – Part 1', 126, False],\n",
       " ['the Deathly Hallows – Part 2', 130, False]]"
      ]
     },
     "execution_count": 65,
     "metadata": {},
     "output_type": "execute_result"
    }
   ],
   "source": [
    "movies"
   ]
  },
  {
   "cell_type": "code",
   "execution_count": null,
   "metadata": {},
   "outputs": [],
   "source": []
  }
 ],
 "metadata": {
  "kernelspec": {
   "display_name": "Python 3",
   "language": "python",
   "name": "python3"
  },
  "language_info": {
   "codemirror_mode": {
    "name": "ipython",
    "version": 3
   },
   "file_extension": ".py",
   "mimetype": "text/x-python",
   "name": "python",
   "nbconvert_exporter": "python",
   "pygments_lexer": "ipython3",
   "version": "3.8.2"
  }
 },
 "nbformat": 4,
 "nbformat_minor": 2
}
