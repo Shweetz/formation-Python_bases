{
 "cells": [
  {
   "cell_type": "markdown",
   "metadata": {},
   "source": [
    "# La gestion des exceptions\n",
    "Un mecanisme important pour singaler qu'un code ne s'est pas comporté comme attendu est le mécanisme des exceptions. Tout code peut *lever* une exceptions. Par exemple, observez le comportement du code suivant :"
   ]
  },
  {
   "cell_type": "code",
   "execution_count": null,
   "metadata": {},
   "outputs": [],
   "source": [
    "int(\"toto\")"
   ]
  },
  {
   "cell_type": "markdown",
   "metadata": {},
   "source": [
    "Une exception a élé levée. Python propose un ensemble d'exceptions, vous pouvez trouver la liste sur [la page de la documentation](https://docs.python.org/3/library/exceptions.html).\n",
    "\n",
    "## Capturer une exception\n",
    "Une exception est un message, une message qui informe qu'un code ne peut se terminer. Une exception doit être *capurée* par un code qui sait la gérer. Pour cela, il faut utiliser le bloc suivant :"
   ]
  },
  {
   "cell_type": "code",
   "execution_count": null,
   "metadata": {},
   "outputs": [],
   "source": [
    "try:\n",
    "    int(\"toto\")\n",
    "except ValueError:\n",
    "    print(\"Ce code a levé une exception et ce bloc l'a capturé\")"
   ]
  },
  {
   "cell_type": "markdown",
   "metadata": {},
   "source": [
    "## Lever une exception\n",
    "Un code doit lever une exception pour indiquer qu'il ne peut pas réaliser une tâche. Une exception est levée avec l'instruction `raise`:"
   ]
  },
  {
   "cell_type": "code",
   "execution_count": null,
   "metadata": {},
   "outputs": [],
   "source": [
    "def ma_func(value: int):\n",
    "    if value < 0:\n",
    "        raise ValueError(\"Can't handle negative value\")\n",
    "    \n",
    "    print(\"Ok\")\n",
    "    \n",
    "ma_func(-1)"
   ]
  },
  {
   "cell_type": "markdown",
   "metadata": {},
   "source": [
    "## Exercices\n",
    "\n",
    "Reprenez votre fonction `duration_for` dans la cellule suivante pour qu'elle lève une exception. Vérifiez ensuite que le comportement est bien tel qu'attendu.\n",
    "\n",
    "*Indice* : si vous voulez faire la distinction du paramètre qui a levé l'exception, il faudra faire deux tests."
   ]
  },
  {
   "cell_type": "code",
   "execution_count": null,
   "metadata": {},
   "outputs": [],
   "source": [
    "def duration_for(how_many, unit_duration=7):\n",
    "    how_many = int(how_many)\n",
    "    unit_duration = int(unit_duration)\n",
    "    \n",
    "    if how_many >= 0 and unit_duration >= 0:\n",
    "        return how_many * unit_duration"
   ]
  },
  {
   "cell_type": "code",
   "execution_count": 20,
   "metadata": {},
   "outputs": [],
   "source": [
    "def duration_for(how_many, unit_duration=7):\n",
    "    how_many = int(how_many)\n",
    "    unit_duration = int(unit_duration)\n",
    "    \n",
    "    if how_many < 0:\n",
    "        raise ValueError(\"Quantities should be positive\")\n",
    "    if unit_duration < 0:\n",
    "        raise ValueError(\"Duration should be positive\")\n",
    "    \n",
    "    if how_many >= 0 and unit_duration >= 0:\n",
    "        return how_many * unit_duration"
   ]
  },
  {
   "cell_type": "markdown",
   "metadata": {},
   "source": [
    "Complétez le code ci-dessous pour qu'il s'exécute correctement. Il doit afficher l'information mais il doit également informer lorsqu'il n'a pas pu être exécuté.\n",
    "\n",
    "*note* : vous pouvez utiliser un affichage de la sorte :\n",
    "```python\n",
    "print(\"Erreur pour\", value)\n",
    "```"
   ]
  },
  {
   "cell_type": "code",
   "execution_count": 21,
   "metadata": {},
   "outputs": [
    {
     "name": "stdout",
     "output_type": "stream",
     "text": [
      "Quantities should be positive\n",
      "Durée formation ne peux etre déterminée du fait de la durée entrée\n"
     ]
    }
   ],
   "source": [
    "duration = -5\n",
    "\n",
    "try:\n",
    "    print(\"Durée formation : \", duration_for(duration))\n",
    "except ValueError as e:\n",
    "    print(e)\n",
    "    print(\"Durée formation ne peux etre déterminée du fait de la durée entrée\")"
   ]
  },
  {
   "cell_type": "code",
   "execution_count": null,
   "metadata": {},
   "outputs": [],
   "source": []
  }
 ],
 "metadata": {
  "kernelspec": {
   "display_name": "Python 3",
   "language": "python",
   "name": "python3"
  },
  "language_info": {
   "codemirror_mode": {
    "name": "ipython",
    "version": 3
   },
   "file_extension": ".py",
   "mimetype": "text/x-python",
   "name": "python",
   "nbconvert_exporter": "python",
   "pygments_lexer": "ipython3",
   "version": "3.8.2"
  }
 },
 "nbformat": 4,
 "nbformat_minor": 2
}
