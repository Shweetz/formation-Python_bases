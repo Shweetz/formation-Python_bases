{
 "cells": [
  {
   "cell_type": "markdown",
   "metadata": {},
   "source": [
    "## Les collections\n",
    "Les collections sont des types de données qui contiennent plusieurs données. Nous avons vu :\n",
    " * les chaines de caractères (`str`)\n",
    " * les listes (`list`)\n",
    " * les tuples (`tuple`)\n",
    " * les dictionnaires (`dict`)\n",
    " \n",
    "Listes et chaines de caractères sont des **séquences**. Les éléments sont ordonnés et peuvent être redondants. Vous pouvez accéder à un élément de la collection par son indice avec la sémantique suivante :\n",
    "```python\n",
    "knights = [\"Arthur\", \"Lancelot\", \"Galahad\", \"Robin\", \"Karadoc\"]\n",
    "knights[2] # retourne l'élément à l'indice 2\n",
    "```\n",
    "Vous pouvez tester cette instrucion dans la cellule suivante."
   ]
  },
  {
   "cell_type": "code",
   "execution_count": 1,
   "metadata": {},
   "outputs": [
    {
     "name": "stdout",
     "output_type": "stream",
     "text": [
      "Galahad\n"
     ]
    }
   ],
   "source": [
    "knights = [\"Arthur\", \"Lancelot\", \"Galahad\", \"Robin\", \"Karadoc\"]\n",
    "print(knights[2])"
   ]
  },
  {
   "cell_type": "markdown",
   "metadata": {},
   "source": [
    "Vous pouvez également extraire une partie de la liste en sous-liste grâce au *slicing* :\n",
    "```python\n",
    "knights[2:4] # retourne une liste de 2 éléments\n",
    "knights[:2] # retourne la liste des deux premiers éléments\n",
    "```"
   ]
  },
  {
   "cell_type": "code",
   "execution_count": 2,
   "metadata": {},
   "outputs": [
    {
     "name": "stdout",
     "output_type": "stream",
     "text": [
      "['Galahad', 'Robin']\n",
      "['Arthur', 'Lancelot']\n"
     ]
    }
   ],
   "source": [
    "print(knights[2:4])\n",
    "print(knights[:2])"
   ]
  },
  {
   "cell_type": "markdown",
   "metadata": {},
   "source": [
    "Vous pouvez avoir la taille de la collection avec la fonction\n",
    "```python\n",
    "len(knights)\n",
    "```\n",
    "En python, **tout est objet**. Un objet est une entité caractérisée par :\n",
    " - un état (des données)\n",
    " - des comportements (des fonctions associées appelées méthodes)\n",
    " \n",
    "Contrairement aux types numériques, les collections utilisent et se manipulent à l'aide de méthodes. Leur *état* correspond aux données contenues.\n",
    "Ainsi, si nous avons une liste, trier la liste est réalisé par une méthode :\n",
    "```python\n",
    "knights.sort() # tri la liste\n",
    "```\n",
    "Vous pouvez consulter les autres méthodes disponibles pour le type liste par les fonctions `dir(list)` et `help(list)`."
   ]
  },
  {
   "cell_type": "markdown",
   "metadata": {},
   "source": [
    "### Exercices - listes\n",
    "La liste suivante représente la saison 12 de Big Bang Theory. Nous allons extraire des informations de cette liste."
   ]
  },
  {
   "cell_type": "code",
   "execution_count": 3,
   "metadata": {},
   "outputs": [],
   "source": [
    "bbt_s12 = [\"The Conjugal Configuration\",\n",
    "           \"The Wedding Gift Wormhole\",\n",
    "           \"The Procreation Calculation\",\n",
    "           \"The Tam Turbulence\",\n",
    "           \"The Planetarium Collision\",\n",
    "           \"The Imitation Perturbation\",\n",
    "           \"The Grant Allocation Derivation\",\n",
    "           \"The Consummation Deviation\",\n",
    "           \"The Citation Negation\",\n",
    "           \"The VCR Illumination\",\n",
    "           \"The Paintball Scattering\",\n",
    "           \"The Propagation Proposition\",\n",
    "           \"The Confirmation Polarization\",\n",
    "           \"The Meteorite Manifestation\",\n",
    "           \"The Donation Oscillation\",\n",
    "           \"The D & D Vortex\",\n",
    "           \"The Conference Valuation\",\n",
    "           \"The Laureate Accumulation\",\n",
    "           \"The Inspiration Deprivation\",\n",
    "           \"The Decision Reverberation\",\n",
    "           \"The Plagiarism Schism\",\n",
    "           \"The Maternal Conclusion\",\n",
    "           \"The Change Constant\",\n",
    "           \"The Stockholm Syndrome\"]"
   ]
  },
  {
   "cell_type": "markdown",
   "metadata": {},
   "source": [
    "Nous considérons que chaque épisode dure 23 minutes, combien de temps (en minutes ou en heures/minutes) dure la saison ?"
   ]
  },
  {
   "cell_type": "code",
   "execution_count": 4,
   "metadata": {},
   "outputs": [
    {
     "data": {
      "text/plain": [
       "552"
      ]
     },
     "execution_count": 4,
     "metadata": {},
     "output_type": "execute_result"
    }
   ],
   "source": [
    "EPISODE_DURATION = 23\n",
    "EPISODE_DURATION * len(bbt_s12)"
   ]
  },
  {
   "cell_type": "markdown",
   "metadata": {},
   "source": [
    "Il faudra aller au lit dans 2 heures maximum. Déterminez le nombre d'épisodes qu'il sera possible de visionner à la suite en entier. Créez une liste extraite du début de `bbt_s12` de ces épisodes."
   ]
  },
  {
   "cell_type": "code",
   "execution_count": 5,
   "metadata": {},
   "outputs": [
    {
     "data": {
      "text/plain": [
       "5"
      ]
     },
     "execution_count": 5,
     "metadata": {},
     "output_type": "execute_result"
    }
   ],
   "source": [
    "2*60 // EPISODE_DURATION"
   ]
  },
  {
   "cell_type": "code",
   "execution_count": 6,
   "metadata": {},
   "outputs": [
    {
     "data": {
      "text/plain": [
       "['The Conjugal Configuration',\n",
       " 'The Wedding Gift Wormhole',\n",
       " 'The Procreation Calculation',\n",
       " 'The Tam Turbulence',\n",
       " 'The Planetarium Collision']"
      ]
     },
     "execution_count": 6,
     "metadata": {},
     "output_type": "execute_result"
    }
   ],
   "source": [
    "bbt_s12[:2*60 // EPISODE_DURATION]"
   ]
  },
  {
   "cell_type": "markdown",
   "metadata": {},
   "source": [
    "Quel est le titre du dernier épisode de cette liste extraite ?"
   ]
  },
  {
   "cell_type": "code",
   "execution_count": 7,
   "metadata": {},
   "outputs": [
    {
     "data": {
      "text/plain": [
       "'The Planetarium Collision'"
      ]
     },
     "execution_count": 7,
     "metadata": {},
     "output_type": "execute_result"
    }
   ],
   "source": [
    "bbt_s12[:2*60 // EPISODE_DURATION][-1]"
   ]
  },
  {
   "cell_type": "markdown",
   "metadata": {},
   "source": [
    "Créez une copie de la liste de la saison 12 associée à la variable `playlist` dans la cellule suivante. Cette variable nous permettra de gérer notre avancée dans la série."
   ]
  },
  {
   "cell_type": "code",
   "execution_count": 8,
   "metadata": {},
   "outputs": [],
   "source": [
    "#mauvais\n",
    "playlist = bbt_s12\n",
    "\n",
    "#shallowcopy\n",
    "playlist = list(bbt_s12)\n",
    "playlist = bbt_s12[:]\n",
    "playlist = bbt_s12.copy()\n",
    "\n",
    "#deepcopy nul en perf et mémoire"
   ]
  },
  {
   "cell_type": "markdown",
   "metadata": {},
   "source": [
    "Récupérez le nom du premier épisode à visionner pour l'afficher et supprimez-le de la liste. Recopiez cette instruction plusieurs fois (jusqu'à arriver à au dernier épisode à regarder dans les 2 heures par exemple)."
   ]
  },
  {
   "cell_type": "code",
   "execution_count": 9,
   "metadata": {},
   "outputs": [
    {
     "name": "stdout",
     "output_type": "stream",
     "text": [
      "The Conjugal Configuration\n",
      "The Wedding Gift Wormhole\n",
      "The Procreation Calculation\n",
      "The Tam Turbulence\n",
      "The Planetarium Collision\n"
     ]
    }
   ],
   "source": [
    "print(playlist.pop(0))\n",
    "print(playlist.pop(0))\n",
    "print(playlist.pop(0))\n",
    "print(playlist.pop(0))\n",
    "print(playlist.pop(0))"
   ]
  },
  {
   "cell_type": "markdown",
   "metadata": {},
   "source": [
    "La playlist ne contient que les épisodes restant à voir. Utilisez cette liste pour calculer la durée des épisodes restant à voir et profitez de la liste de la saison pour la comparer à la durée totale de la saison. \n",
    "\n",
    "Que remarquez-vous ?"
   ]
  },
  {
   "cell_type": "code",
   "execution_count": 10,
   "metadata": {},
   "outputs": [
    {
     "name": "stdout",
     "output_type": "stream",
     "text": [
      "35\n",
      "Durée restante : 456\n",
      "Durée saison : 456\n"
     ]
    }
   ],
   "source": [
    "import wblib.helpers as h\n",
    "\n",
    "print('Durée restante :', h.duration_for(len(playlist), 24))\n",
    "print('Durée saison :', h.duration_for(len(bbt_s12), 24))"
   ]
  },
  {
   "cell_type": "code",
   "execution_count": null,
   "metadata": {},
   "outputs": [],
   "source": []
  }
 ],
 "metadata": {
  "kernelspec": {
   "display_name": "Python 3",
   "language": "python",
   "name": "python3"
  },
  "language_info": {
   "codemirror_mode": {
    "name": "ipython",
    "version": 3
   },
   "file_extension": ".py",
   "mimetype": "text/x-python",
   "name": "python",
   "nbconvert_exporter": "python",
   "pygments_lexer": "ipython3",
   "version": "3.8.2"
  }
 },
 "nbformat": 4,
 "nbformat_minor": 2
}
