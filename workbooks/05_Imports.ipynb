{
 "cells": [
  {
   "cell_type": "markdown",
   "metadata": {},
   "source": [
    "# Importer des dépendances\n",
    "Nous avons créé dans le document précédent une fonction généraliste qui peut être utilisée dans plusieurs contextes. Pour cela, nous devons créer un *module*, c'est à dire un fichier texte contenant du code Python afin qu'il soit utilisé dans différents contextes.\n",
    "\n",
    "Le répertoire `notebook` contient un fichier `helpers.py` destiné à ces ressources. Ce fichier est dans un répertoire `wblib`. Ce repertoire est plus précisemment un *package*. Un package est un répertoire contenant un fichier `__init__.py` vide et des modules.\n",
    "\n",
    "Copiez le code de la fonction `duration_for` du document `Introduction fonctions` dans ce module. Ce module est donc une bibliothèque, ou *lib*.\n",
    "\n",
    "Pour utiliser les ressources de cette lib, il faut l'importer dans le module courant. Cela va se faire par l'instruction `import`. La méthode est présentée en formation."
   ]
  },
  {
   "cell_type": "code",
   "execution_count": 1,
   "metadata": {},
   "outputs": [
    {
     "name": "stdout",
     "output_type": "stream",
     "text": [
      "14\n"
     ]
    }
   ],
   "source": [
    "import wblib.helpers\n",
    "\n",
    "print(wblib.helpers.duration_for(2))"
   ]
  },
  {
   "cell_type": "code",
   "execution_count": 2,
   "metadata": {},
   "outputs": [
    {
     "name": "stdout",
     "output_type": "stream",
     "text": [
      "14\n"
     ]
    }
   ],
   "source": [
    "from wblib import helpers\n",
    "\n",
    "print(helpers.duration_for(2))"
   ]
  },
  {
   "cell_type": "code",
   "execution_count": 3,
   "metadata": {},
   "outputs": [
    {
     "name": "stdout",
     "output_type": "stream",
     "text": [
      "14\n"
     ]
    }
   ],
   "source": [
    "import wblib.helpers as h\n",
    "\n",
    "print(h.duration_for(2))"
   ]
  },
  {
   "cell_type": "markdown",
   "metadata": {},
   "source": [
    "Notez que cette instruction dépend du répertoire de travail de Python."
   ]
  },
  {
   "cell_type": "markdown",
   "metadata": {},
   "source": [
    "## Recharger une dépendance\n",
    "Une lib ne peut être importée qu'une seule fois. Si vous en modifiez le contenu, il faut la recharger. Recharger une lib se fait de la manière suivante :"
   ]
  },
  {
   "cell_type": "code",
   "execution_count": 2,
   "metadata": {},
   "outputs": [
    {
     "data": {
      "text/plain": [
       "<module 'helpers' from '/Users/dad3zero/workspace/formations/training-python/workbooks_correction/helpers.py'>"
      ]
     },
     "execution_count": 2,
     "metadata": {},
     "output_type": "execute_result"
    }
   ],
   "source": [
    "import importlib\n",
    "importlib.reload(helpers)"
   ]
  },
  {
   "cell_type": "markdown",
   "metadata": {},
   "source": [
    "Notez que recharger une lib est nécessaire dans un Jupyter Notebook ou dans un shell intéractif (et donc iPython). "
   ]
  }
 ],
 "metadata": {
  "kernelspec": {
   "display_name": "Python 3",
   "language": "python",
   "name": "python3"
  },
  "language_info": {
   "codemirror_mode": {
    "name": "ipython",
    "version": 3
   },
   "file_extension": ".py",
   "mimetype": "text/x-python",
   "name": "python",
   "nbconvert_exporter": "python",
   "pygments_lexer": "ipython3",
   "version": "3.8.2"
  }
 },
 "nbformat": 4,
 "nbformat_minor": 2
}
