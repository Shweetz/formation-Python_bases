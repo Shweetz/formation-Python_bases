{
 "cells": [
  {
   "cell_type": "markdown",
   "metadata": {},
   "source": [
    "# Paramètres et présentation des données\n",
    "\n",
    "## Paramètres d'un programme\n",
    "L'intérêt d'un programme est d'utiliser différentes données pour effectuer un même traitement. Il faudra donc fournir des données *variables*.\n",
    "\n",
    "Il est naturel d'envisager un échange avec un utilisateur, le programme pose une question et traite la donnée. C'est la manière dont vous utilisez les programmes avec des interfaces graphiques.\n",
    "\n",
    "Python propose une fonction basique pour cela, `input()`. La fonction `input` attend une saisie de l'utilisateur et retourne cette saisie comme une donnée de type chaine de caractères. Pensez donc à la transtyper au besoin.\n",
    "```python\n",
    "name = input('Quel est votre langage favori ? ')\n",
    "print(name)\n",
    "year = int(input('Quand a-t-il été créé ? ')\n",
    "print(year)\n",
    "```\n",
    "\n",
    "Cette fonction permet donc de créer une interface dans un terminal (invite de commandes). Nous ne nous attarderons pas sur l'utilisation de cette fonction. Pour exécuter un programme avec différentes valeurs dans le cadre de Jupyter, il est plus simple de dédier une cellule à la déclaration des variables et modifier les valeurs avant chaque exécution.\n",
    "\n",
    "Ainsi, cette première cellule déclare les données paramètres du programme"
   ]
  },
  {
   "cell_type": "code",
   "execution_count": 1,
   "metadata": {},
   "outputs": [],
   "source": [
    "name = \"Python\"\n",
    "year = 1989"
   ]
  },
  {
   "cell_type": "markdown",
   "metadata": {},
   "source": [
    "Et la ou les cellule(s) suivante(s) traitent ces données (les dates seront vues ultérieurement)."
   ]
  },
  {
   "cell_type": "code",
   "execution_count": 2,
   "metadata": {},
   "outputs": [
    {
     "name": "stdout",
     "output_type": "stream",
     "text": [
      "Python a été créé en 1989\n",
      "C'était il y a 31 ans\n"
     ]
    }
   ],
   "source": [
    "import datetime as dt\n",
    "\n",
    "print(f\"{name} a été créé en {year}\")\n",
    "print(f\"C'était il y a {dt.datetime.now().year - year} ans\")"
   ]
  },
  {
   "cell_type": "markdown",
   "metadata": {},
   "source": [
    "Notez qu'ainsi, vous pouvez écrire un programme dans un Notebook, le paramétrer au besoin et l'exécuter entièrement grâce à l'entrée du menu `Cell/Run all`."
   ]
  },
  {
   "cell_type": "markdown",
   "metadata": {},
   "source": [
    "## Mise en forme de chaines de caractères\n",
    "Jusqu'ici, nous n'avons affiché que la donnée générée mais il est souvent plus adapté de la mettre en forme dans une chaine de caractères. L'outil le plus efficace est la méthode `format()` des chaines de caractères :\n",
    "```python\n",
    "pref_string = \"Mon langage favori est {}\"\n",
    "print(pref_string.format(name))\n",
    "```\n",
    "Les accolades permettent de mettre en forme les données à afficher. Le microlangage étant assez complexe, je vous invite à consulter [la documentation](https://docs.python.org/3.6/library/string.html#format-string-syntax) pour les fonctionnalités exhaustives.\n",
    "\n",
    "On retiendra les plus courantes :\n",
    " * `{1}` permet d'afficher le second élément de la liste des données.\n",
    " * `{:.2f}` permet d'afficher la donnée sous forme de réel avec deux chiffres après la virgule\n",
    " * `{:10}` réserve 10 espaces pour afficher la donnée\n",
    " * `{:10.2f}` réserve 10 espaces pour afficher un réel avec deux chiffres après la virgule\n",
    " * `{1:10.2f}` réserve 10 espaces pour afficher sous forme de réel avec deux chiffres après la virgule le second élément de la liste des données\n",
    "### Exercices\n",
    "Reprenons l'exercice sur la vitesse calculée précédemment et améliorons l'affichage en imposant deux chiffres après le point décimal."
   ]
  },
  {
   "cell_type": "code",
   "execution_count": 31,
   "metadata": {},
   "outputs": [
    {
     "name": "stdout",
     "output_type": "stream",
     "text": [
      "2.86 m/s\n",
      "2.86 m/s\n"
     ]
    }
   ],
   "source": [
    "temps = 6.892\n",
    "distance = 19.7\n",
    "\n",
    "print(\"{:.2f} m/s\".format(distance / temps))\n",
    "\n",
    "print(f\"{distance / temps:.2f} m/s\")"
   ]
  },
  {
   "cell_type": "markdown",
   "metadata": {},
   "source": [
    "## Opérations sur les données\n",
    "Nous allons maintenant combiner traitement de données et affichage.\n",
    "### Exercices\n",
    "Il me reste 3 épisodes de 53 minutes de Jessica Jones à regarder.\n",
    " * Combien de temps (en heures et minutes) cela représente-t-il ?\n",
    " * Sachant qu'il est 20h42, quelle sera l'heure de fin si je les regarde à la suite ?\n",
    "Affichez ces deux résultats à l'aide des templates suivants."
   ]
  },
  {
   "cell_type": "code",
   "execution_count": 27,
   "metadata": {},
   "outputs": [],
   "source": [
    "TIME_REMAINING = 'Il reste {}h{} à visionner.'\n",
    "END_HOUR = 'Vous aurez fini de regarder vos émissions à {}h{}'"
   ]
  },
  {
   "cell_type": "code",
   "execution_count": 23,
   "metadata": {},
   "outputs": [
    {
     "name": "stdout",
     "output_type": "stream",
     "text": [
      "Il reste 2h39 à visionner.\n"
     ]
    }
   ],
   "source": [
    "print(TIME_REMAINING.format(3*53 // 60, 3*53 % 60))"
   ]
  },
  {
   "cell_type": "code",
   "execution_count": 34,
   "metadata": {},
   "outputs": [
    {
     "name": "stdout",
     "output_type": "stream",
     "text": [
      "Vous aurez fini de regarder vos émissions à 0h21\n",
      "Mais dans 1 jours !\n"
     ]
    }
   ],
   "source": [
    "h_remaining = time_to_watch // 60\n",
    "m_remaining = time_to_watch % 60\n",
    "\n",
    "h_current = 21\n",
    "m_current = 42\n",
    "\n",
    "final_m = (m_current + m_remaining) % 60\n",
    "extra_h = (m_current + m_remaining) // 60\n",
    "final_h = (h_current + h_remaining + extra_h) % 24\n",
    "extra_d = (h_current + h_remaining + extra_h) // 24\n",
    "\n",
    "print(END_HOUR.format(final_h, final_m))\n",
    "if extra_d > 0:\n",
    "    print(f\"Mais dans {extra_d} jours !\")"
   ]
  },
  {
   "cell_type": "code",
   "execution_count": null,
   "metadata": {},
   "outputs": [],
   "source": []
  },
  {
   "cell_type": "code",
   "execution_count": 32,
   "metadata": {},
   "outputs": [
    {
     "name": "stdout",
     "output_type": "stream",
     "text": [
      "Il reste 2h39 à visionner.\n"
     ]
    }
   ],
   "source": [
    "episode_duration = 53\n",
    "episodes_nb = 3\n",
    "time_to_watch = episode_duration * episodes_nb\n",
    "\n",
    "print(TIME_REMAINING.format(time_to_watch // 60, \n",
    "                            time_to_watch % 60))"
   ]
  },
  {
   "cell_type": "code",
   "execution_count": 36,
   "metadata": {},
   "outputs": [],
   "source": [
    "start_time = 20 * 60 + 42"
   ]
  },
  {
   "cell_type": "code",
   "execution_count": 38,
   "metadata": {},
   "outputs": [],
   "source": [
    "bed_time = start_time + time_to_watch"
   ]
  },
  {
   "cell_type": "code",
   "execution_count": 41,
   "metadata": {},
   "outputs": [
    {
     "name": "stdout",
     "output_type": "stream",
     "text": [
      "(2, 39)\n"
     ]
    }
   ],
   "source": [
    "print(divmod(53*3, 60))"
   ]
  },
  {
   "cell_type": "code",
   "execution_count": 48,
   "metadata": {},
   "outputs": [],
   "source": [
    "bed_time_tuple = divmod(bed_time, 60)"
   ]
  },
  {
   "cell_type": "code",
   "execution_count": 49,
   "metadata": {},
   "outputs": [
    {
     "name": "stdout",
     "output_type": "stream",
     "text": [
      "Vous aurez fini de regarder vos émissions à 23h21\n"
     ]
    }
   ],
   "source": [
    "print(END_HOUR.format(bed_time_tuple[0], bed_time_tuple[1]))"
   ]
  },
  {
   "cell_type": "code",
   "execution_count": 50,
   "metadata": {},
   "outputs": [],
   "source": [
    "bed_hours, bed_minutes = divmod(bed_time, 60)"
   ]
  },
  {
   "cell_type": "code",
   "execution_count": 51,
   "metadata": {},
   "outputs": [
    {
     "name": "stdout",
     "output_type": "stream",
     "text": [
      "Vous aurez fini de regarder vos émissions à 23h21\n"
     ]
    }
   ],
   "source": [
    "print(END_HOUR.format(bed_hours, bed_minutes))"
   ]
  },
  {
   "cell_type": "markdown",
   "metadata": {},
   "source": [
    "\\* est un opérateur qui permet d'unpack/splat les arguments d'une liste"
   ]
  },
  {
   "cell_type": "code",
   "execution_count": 55,
   "metadata": {},
   "outputs": [
    {
     "name": "stdout",
     "output_type": "stream",
     "text": [
      "Vous aurez fini de regarder vos émissions à 23h21\n"
     ]
    }
   ],
   "source": [
    "print(END_HOUR.format(*divmod(bed_time, 60)))"
   ]
  },
  {
   "cell_type": "code",
   "execution_count": null,
   "metadata": {},
   "outputs": [],
   "source": []
  },
  {
   "cell_type": "code",
   "execution_count": 68,
   "metadata": {},
   "outputs": [],
   "source": [
    "END_HOUR = 'Vous aurez fini de regarder vos émissions à {}h{} + {} jours'"
   ]
  },
  {
   "cell_type": "code",
   "execution_count": 69,
   "metadata": {},
   "outputs": [],
   "source": [
    "start_time = 21 * 60 + 42"
   ]
  },
  {
   "cell_type": "code",
   "execution_count": 70,
   "metadata": {},
   "outputs": [],
   "source": [
    "bed_hours, bed_minutes = divmod(bed_time, 60)"
   ]
  },
  {
   "cell_type": "code",
   "execution_count": 73,
   "metadata": {},
   "outputs": [],
   "source": [
    "bed_days, bed_hours = divmod(bed_hours, 24)"
   ]
  },
  {
   "cell_type": "code",
   "execution_count": 74,
   "metadata": {},
   "outputs": [
    {
     "name": "stdout",
     "output_type": "stream",
     "text": [
      "Vous aurez fini de regarder vos émissions à 0h21 + 1 jours\n"
     ]
    }
   ],
   "source": [
    "print(END_HOUR.format(bed_hours, bed_minutes, bed_days))"
   ]
  },
  {
   "cell_type": "code",
   "execution_count": null,
   "metadata": {},
   "outputs": [],
   "source": []
  }
 ],
 "metadata": {
  "kernelspec": {
   "display_name": "Python 3",
   "language": "python",
   "name": "python3"
  },
  "language_info": {
   "codemirror_mode": {
    "name": "ipython",
    "version": 3
   },
   "file_extension": ".py",
   "mimetype": "text/x-python",
   "name": "python",
   "nbconvert_exporter": "python",
   "pygments_lexer": "ipython3",
   "version": "3.8.2"
  }
 },
 "nbformat": 4,
 "nbformat_minor": 1
}
