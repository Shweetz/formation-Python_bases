{
 "cells": [
  {
   "cell_type": "markdown",
   "metadata": {},
   "source": [
    "# Découverte du langage\n",
    "## Manipuer des données, les variables\n",
    "La programmation a pour but de manipuler des données. La manipulation de données la plus *simple* est le calcul. Les calculs sont réalisés par les opérateurs mathématiques standards.\n",
    "\n",
    "La cellule suivante contient une instruction qui additionne deux valeurs. Vous pouvez exécuter cette cellule et voir un affichage.\n",
    "\n",
    "Les Notebooks ont un comportement particulier, ils *affichent* le **retour** de la dernière instruction d'une cellule.\n",
    "Il estiste une instruction d'affichage, la fonction `print()`. Éxécutez la ligne suivante.\n",
    "\n",
    "Dans les Jupyter Notebooks, des variables déclarées dans une cellule (qui a été exécutée) sont disponibles pour les autres cellules du Notebook. Nous allons voir ceci avec le premier exercice.\n",
    "\n",
    "### Exercices\n",
    "Affectez les valeurs **6.892** et **19.7** aux variables `temps` (secondes) et `distance` (mètres) dans la cellule ci-dessous et exécutez-la."
   ]
  },
  {
   "cell_type": "code",
   "execution_count": 2,
   "metadata": {},
   "outputs": [],
   "source": [
    "temps = 6.892\n",
    "distance = 19.7"
   ]
  },
  {
   "cell_type": "markdown",
   "metadata": {},
   "source": [
    "Calculez et affichez la valeur de la vitesse (qui sera donc en m/s) à l'aide des deux variables précédentes dans la cellule suivante."
   ]
  },
  {
   "cell_type": "code",
   "execution_count": 5,
   "metadata": {},
   "outputs": [
    {
     "name": "stdout",
     "output_type": "stream",
     "text": [
      "2.8583865351131745\n"
     ]
    }
   ],
   "source": [
    "vitesse = distance / temps\n",
    "print(vitesse)"
   ]
  },
  {
   "cell_type": "markdown",
   "metadata": {},
   "source": [
    "La cellule suivante déclare une variable `duree_heure`, vous ne devez évidemment pas modifier cette ligne.\n",
    "\n",
    "Affectez à une variable `nombre_jours` une valeur correspondant au nombre de jours de formation. Multipliez les deux variables pour obtenir la durée en heure de la formation. **Attention au type…**"
   ]
  },
  {
   "cell_type": "code",
   "execution_count": 12,
   "metadata": {},
   "outputs": [
    {
     "name": "stdout",
     "output_type": "stream",
     "text": [
      "35\n"
     ]
    }
   ],
   "source": [
    "duree_heure = \"7\"\n",
    "duree_heure = int(duree_heure)\n",
    "nombre_jours = 5\n",
    "duree = duree_heure * nombre_jours\n",
    "print(duree)"
   ]
  },
  {
   "cell_type": "code",
   "execution_count": null,
   "metadata": {},
   "outputs": [],
   "source": []
  }
 ],
 "metadata": {
  "kernelspec": {
   "display_name": "Python 3",
   "language": "python",
   "name": "python3"
  },
  "language_info": {
   "codemirror_mode": {
    "name": "ipython",
    "version": 3
   },
   "file_extension": ".py",
   "mimetype": "text/x-python",
   "name": "python",
   "nbconvert_exporter": "python",
   "pygments_lexer": "ipython3",
   "version": "3.8.2"
  }
 },
 "nbformat": 4,
 "nbformat_minor": 1
}
