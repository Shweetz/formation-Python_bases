{
 "cells": [
  {
   "cell_type": "markdown",
   "metadata": {},
   "source": [
    "# Les structures de contrôle\n",
    "Les structures de contrôle permettent d'exécuter du code soit\n",
    " - de manière conditionnelle\n",
    " - en boucle\n",
    "\n",
    "Les boucles consistent à définir du code qui sera répété plusieurs fois. Il existe deux structures pour deux cas différents :\n",
    "\n",
    " - La structure `for` permet d'itérer sur des collections.\n",
    "\n",
    " - La structure `while` exécute du code tant qu'une condition est vrai.\n",
    "\n",
    "### Exercices\n",
    "\n",
    "Affichez chaque caractère d’une chaine en utilisant la boucle for"
   ]
  },
  {
   "cell_type": "code",
   "execution_count": 26,
   "metadata": {},
   "outputs": [
    {
     "name": "stdout",
     "output_type": "stream",
     "text": [
      "M\n",
      "a\n",
      " \n",
      "c\n",
      "h\n",
      "a\n",
      "i\n",
      "n\n",
      "e\n"
     ]
    }
   ],
   "source": [
    "chaine = \"Ma chaine\"\n",
    "for carac in chaine:\n",
    "    print(carac)"
   ]
  },
  {
   "cell_type": "markdown",
   "metadata": {},
   "source": [
    "Affichez chaque élément d’une liste en utilisant la boucle for"
   ]
  },
  {
   "cell_type": "code",
   "execution_count": 27,
   "metadata": {},
   "outputs": [
    {
     "name": "stdout",
     "output_type": "stream",
     "text": [
      "obj1\n",
      "obj2\n",
      "obj3\n"
     ]
    }
   ],
   "source": [
    "liste = [\"obj1\", \"obj2\", \"obj3\"]\n",
    "for obj in liste:\n",
    "    print(obj)"
   ]
  },
  {
   "cell_type": "markdown",
   "metadata": {},
   "source": [
    "Soit la liste des 10 premier épisodes de la saison 12 de Big Bang Theory. Chacun a une durée de 23 minutes."
   ]
  },
  {
   "cell_type": "code",
   "execution_count": 29,
   "metadata": {},
   "outputs": [],
   "source": [
    "bbt_s12 = [\"The Conjugal Configuration\",\n",
    "           \"The Wedding Gift Wormhole\",\n",
    "           \"The Procreation Calculation\",\n",
    "           \"The Tam Turbulence\",\n",
    "           \"The Planetarium Collision\",\n",
    "           \"The Imitation Perturbation\",\n",
    "           \"The Grant Allocation Derivation\",\n",
    "           \"The Consummation Deviation\",\n",
    "           \"The Citation Negation\",\n",
    "           \"The VCR Illumination\"]"
   ]
  },
  {
   "cell_type": "markdown",
   "metadata": {},
   "source": [
    "Vous avez écrit dans les exercices sur les listes les instructions pour calculer le nombre d'épisodes à visionner en 2 heures et l'instruction pour retourner afin de l'afficher et supprimer le premier épisode de la liste. Vous aviez répété cette instruction autant de fois que nécessaire à la main.\n",
    "\n",
    "Écrivez donc maintenant à l'aide d'une boucle ces instructions."
   ]
  },
  {
   "cell_type": "code",
   "execution_count": 30,
   "metadata": {},
   "outputs": [
    {
     "name": "stdout",
     "output_type": "stream",
     "text": [
      "The Conjugal Configuration\n",
      "The Wedding Gift Wormhole\n",
      "The Procreation Calculation\n",
      "The Tam Turbulence\n",
      "The Planetarium Collision\n"
     ]
    }
   ],
   "source": [
    "EPISODE_DURATION = 23\n",
    "\n",
    "for _ in range(120 // EPISODE_DURATION):\n",
    "    print(bbt_s12.pop(0))"
   ]
  },
  {
   "cell_type": "markdown",
   "metadata": {},
   "source": [
    "### Boucles et dictionnaires : Compteur de mots (exercice avancé)\n",
    "\n",
    "Soit la chaine suivante."
   ]
  },
  {
   "cell_type": "code",
   "execution_count": 33,
   "metadata": {},
   "outputs": [],
   "source": [
    "SENTENCE = 'Fear is the path to the dark side. Fear leads to anger. Anger leads to hate. Hate leads to suffering.'"
   ]
  },
  {
   "cell_type": "markdown",
   "metadata": {},
   "source": [
    "Nous souhaitons savoir combien de mots commencent par la lettre t (vous pouvez tester avec la méthode `\"mot\".startswith('t')`."
   ]
  },
  {
   "cell_type": "code",
   "execution_count": 34,
   "metadata": {},
   "outputs": [
    {
     "name": "stdout",
     "output_type": "stream",
     "text": [
      "6\n"
     ]
    }
   ],
   "source": [
    "cpt = 0\n",
    "\n",
    "for mot in SENTENCE.split():\n",
    "    if mot.startswith('t'):\n",
    "        cpt += 1\n",
    "print(cpt)"
   ]
  },
  {
   "cell_type": "markdown",
   "metadata": {},
   "source": [
    "Nous souhaitons générer un dictionnaire contenant la fréquence de tous les mots de la chaîne."
   ]
  },
  {
   "cell_type": "code",
   "execution_count": 47,
   "metadata": {},
   "outputs": [
    {
     "name": "stdout",
     "output_type": "stream",
     "text": [
      "{'fear': 2, 'is': 1, 'the': 2, 'path': 1, 'to': 4, 'dark': 1, 'side': 1, 'leads': 3, 'anger': 2, 'hate': 2, 'suffering': 1}\n"
     ]
    }
   ],
   "source": [
    "dict = {}\n",
    "import string\n",
    "for mot in SENTENCE.split():\n",
    "    mot = mot.lower().translate(str.maketrans('', '', string.punctuation))\n",
    "    dict[mot] = dict.get(mot, 0) + 1\n",
    "print(dict)"
   ]
  },
  {
   "cell_type": "code",
   "execution_count": 48,
   "metadata": {},
   "outputs": [
    {
     "name": "stdout",
     "output_type": "stream",
     "text": [
      "{'fear': 2, 'is': 1, 'the': 2, 'path': 1, 'to': 4, 'dark': 1, 'side': 1, 'leads': 3, 'anger': 2, 'hate': 2, 'suffering': 1}\n"
     ]
    }
   ],
   "source": [
    "dict = {}\n",
    "\n",
    "for mot in SENTENCE.lower().replace(\".\", \"\").split():\n",
    "    dict[mot] = dict.get(mot, 0) + 1\n",
    "    \n",
    "print(dict)"
   ]
  },
  {
   "cell_type": "markdown",
   "metadata": {},
   "source": [
    "### Free notebook"
   ]
  },
  {
   "cell_type": "code",
   "execution_count": 1,
   "metadata": {},
   "outputs": [],
   "source": [
    "camelot = [\"Arthur\", \"Merlin\", \"Perceval\"]"
   ]
  },
  {
   "cell_type": "code",
   "execution_count": 3,
   "metadata": {},
   "outputs": [
    {
     "name": "stdout",
     "output_type": "stream",
     "text": [
      "Arthur\n",
      "Merlin\n",
      "Perceval\n"
     ]
    }
   ],
   "source": [
    "for knight in camelot:\n",
    "    print(knight)"
   ]
  },
  {
   "cell_type": "code",
   "execution_count": 4,
   "metadata": {},
   "outputs": [
    {
     "data": {
      "text/plain": [
       "[0, 1, 2, 3, 4]"
      ]
     },
     "execution_count": 4,
     "metadata": {},
     "output_type": "execute_result"
    }
   ],
   "source": [
    "list(range(5))"
   ]
  },
  {
   "cell_type": "code",
   "execution_count": 5,
   "metadata": {},
   "outputs": [
    {
     "name": "stdout",
     "output_type": "stream",
     "text": [
      "todo\n",
      "todo\n",
      "todo\n",
      "todo\n",
      "todo\n"
     ]
    }
   ],
   "source": [
    "for _ in range(5):\n",
    "    print(\"todo\")"
   ]
  },
  {
   "cell_type": "code",
   "execution_count": 8,
   "metadata": {},
   "outputs": [
    {
     "name": "stdout",
     "output_type": "stream",
     "text": [
      "(0, 'Arthur')\n",
      "(1, 'Merlin')\n",
      "(2, 'Perceval')\n"
     ]
    }
   ],
   "source": [
    "for i in enumerate(camelot):\n",
    "    print(i)\n"
   ]
  },
  {
   "cell_type": "code",
   "execution_count": 10,
   "metadata": {},
   "outputs": [
    {
     "name": "stdout",
     "output_type": "stream",
     "text": [
      "ARTHUR\n",
      "Merlin\n",
      "PERCEVAL\n"
     ]
    }
   ],
   "source": [
    "for index, knight in enumerate(camelot):\n",
    "    if index % 2:\n",
    "        print(knight)\n",
    "    else:\n",
    "        print(knight.upper())"
   ]
  },
  {
   "cell_type": "code",
   "execution_count": 11,
   "metadata": {},
   "outputs": [
    {
     "name": "stdout",
     "output_type": "stream",
     "text": [
      "1\n",
      "1\n",
      "2\n",
      "3\n",
      "5\n",
      "8\n",
      "13\n",
      "21\n"
     ]
    }
   ],
   "source": [
    "value = 1\n",
    "previous = 0\n",
    "\n",
    "while value < 30:\n",
    "    print(value)\n",
    "    \n",
    "    temp = value\n",
    "    value = value + previous\n",
    "    previous = temp\n",
    "    del temp"
   ]
  },
  {
   "cell_type": "code",
   "execution_count": 12,
   "metadata": {},
   "outputs": [
    {
     "name": "stdout",
     "output_type": "stream",
     "text": [
      "1\n",
      "1\n",
      "2\n",
      "3\n",
      "5\n",
      "8\n",
      "13\n",
      "21\n"
     ]
    }
   ],
   "source": [
    "value = 1\n",
    "previous = 0\n",
    "\n",
    "while value < 30:\n",
    "    print(value)\n",
    "    \n",
    "    value, previous = value + previous, value"
   ]
  },
  {
   "cell_type": "code",
   "execution_count": 25,
   "metadata": {},
   "outputs": [
    {
     "name": "stdout",
     "output_type": "stream",
     "text": [
      "Arthur\n",
      "Mrlin\n",
      "Perceval\n",
      "You have a wizard (cette ligne s'affiche quand on ne sort pas du for par un break)\n"
     ]
    }
   ],
   "source": [
    "camelot = [\"Arthur\", \"Mrlin\", \"Perceval\"]\n",
    "wizards = [\"Merlin\"]\n",
    "\n",
    "for knight in camelot:\n",
    "    if knight in wizards:\n",
    "        print(\"ici\")\n",
    "    print(knight)\n",
    "else:\n",
    "    print(\"You have a wizard (cette ligne s'affiche quand on ne sort pas du for par un break)\")"
   ]
  },
  {
   "cell_type": "code",
   "execution_count": null,
   "metadata": {},
   "outputs": [],
   "source": []
  }
 ],
 "metadata": {
  "kernelspec": {
   "display_name": "Python 3",
   "language": "python",
   "name": "python3"
  },
  "language_info": {
   "codemirror_mode": {
    "name": "ipython",
    "version": 3
   },
   "file_extension": ".py",
   "mimetype": "text/x-python",
   "name": "python",
   "nbconvert_exporter": "python",
   "pygments_lexer": "ipython3",
   "version": "3.8.2"
  }
 },
 "nbformat": 4,
 "nbformat_minor": 1
}
